{
 "cells": [
  {
   "cell_type": "markdown",
   "metadata": {
    "collapsed": true
   },
   "source": [
    "# Analyzing Application Usage Data\n",
    "## User Searches for SXSW Interactive Sessions\n",
    "\n",
    "At South by Southwest 2017, Watson Data Platform developer advocates presented a demonstration app that allowed conference attendees to quickly and contextually find those events of greatest interest to them. The app is described [in this blog post](https://medium.com/ibm-watson-data-lab/navigating-sxsw-via-cognitive-chatbot-28a2e1f7a456#.4vj5l8uip). \n",
    "\n",
    "This data science notebook analyzes the log of all user interactions in the application to help understand how it was used, and what topics were of greatest interest to users."
   ]
  },
  {
   "cell_type": "markdown",
   "metadata": {},
   "source": [
    "### Prerequisites\n",
    "We're going to use PixieDust to help visualize our data. You can learn more about PixieDust at https://ibm-cds-labs.github.io/pixiedust/.\n",
    "In the following cell we ensure we are running the lastest version of PixieDust. Be sure to restart your kernel if instructed to do so."
   ]
  },
  {
   "cell_type": "code",
   "execution_count": null,
   "metadata": {
    "collapsed": false
   },
   "outputs": [],
   "source": [
    "!pip install --user --upgrade pixiedust"
   ]
  },
  {
   "cell_type": "code",
   "execution_count": null,
   "metadata": {
    "collapsed": false
   },
   "outputs": [],
   "source": [
    "import pixiedust\n",
    "pixiedust.enableJobMonitor()"
   ]
  },
  {
   "cell_type": "code",
   "execution_count": null,
   "metadata": {
    "collapsed": false
   },
   "outputs": [],
   "source": [
    "from pyspark.sql.functions import explode, lower"
   ]
  },
  {
   "cell_type": "markdown",
   "metadata": {},
   "source": [
    "### Configure database connectivity\n",
    "We've made our anonymous SXSW log data available at opendata.cloudant.com. If you are loading from your own Cloudant instance specify the appropriate credentials in the following cell."
   ]
  },
  {
   "cell_type": "code",
   "execution_count": null,
   "metadata": {
    "collapsed": false
   },
   "outputs": [],
   "source": [
    "# Enter your Cloudant host name\n",
    "host = 'opendata.cloudant.com'\n",
    "# Enter your Cloudant user name\n",
    "username = ''\n",
    "# Enter your Cloudant password\n",
    "password = ''\n",
    "# Enter your source database name\n",
    "database = 'sxswlog'"
   ]
  },
  {
   "cell_type": "markdown",
   "metadata": {},
   "source": [
    "### Load documents from the database\n",
    "Load the documents into an Apache Spark DataFrame."
   ]
  },
  {
   "cell_type": "code",
   "execution_count": null,
   "metadata": {
    "collapsed": false
   },
   "outputs": [],
   "source": [
    "# no changes are required to this cell\n",
    "# obtain SparkSession\n",
    "sparkSession = SparkSession.builder.getOrCreate()\n",
    "# load data\n",
    "if username:\n",
    "    conversation_df = sparkSession.read.format(\"com.cloudant.spark\").\\\n",
    "                                        option(\"cloudant.host\", host).\\\n",
    "                                        option(\"cloudant.username\", username).\\\n",
    "                                        option(\"cloudant.password\", password).\\\n",
    "                                        load(database)\n",
    "else:\n",
    "    conversation_df = sparkSession.read.format(\"com.cloudant.spark\").\\\n",
    "                                        option(\"cloudant.host\", host).\\\n",
    "                                        load(database)"
   ]
  },
  {
   "cell_type": "markdown",
   "metadata": {},
   "source": [
    "### Document Structure\n",
    "\n",
    "Each document in the database represents a single conversation made with the chatbot. Each conversation includes the user, date, and the steps of the conversation. The steps are stored in an array called dialogs (referring to the dialogs in Watson Conversation that were traversed as part of the conversation). Here is a sample conversation:\n",
    "\n",
    "<code>\n",
    "\"_id\": \"018885a1fb6cf6dbb49a8e11542e7670\",\n",
    "\"_rev\": \"1-02239161bbfcbae37f5e85c43225fd4b\",\n",
    "\"user\": \"phoneeb14851fc4c343e1b5dd96c6ed9e3748\",\n",
    "\"date\": 1489109308136,\n",
    "\"dialogs\": [\n",
    "  {\n",
    "    \"name\": \"get_music_topic\",\n",
    "    \"message\": \"Music\",\n",
    "    \"date\": 1489343583979\n",
    "  },\n",
    "  {\n",
    "     \"name\": \"search_music_topic\",\n",
    "     \"message\": \"Brass bands\",\n",
    "     \"date\": 1489343600650\n",
    "  }\n",
    "]\n",
    "</code>\n",
    "\n",
    "In this particular conversation the user first told the chatbot they would like to search for music gigs by sending the message \"Music\" to the chatbot. The user then asked the chatbot to search for \"Brass bands\".\n",
    "\n",
    "In the following cell we print the schema to confirm the structure of the documents."
   ]
  },
  {
   "cell_type": "code",
   "execution_count": null,
   "metadata": {
    "collapsed": false
   },
   "outputs": [],
   "source": [
    "conversation_df.printSchema()"
   ]
  },
  {
   "cell_type": "markdown",
   "metadata": {},
   "source": [
    "### How many conversations where there?\n",
    "Let's start by showing how many conversations the Chatbot recorded at SXSW: "
   ]
  },
  {
   "cell_type": "code",
   "execution_count": null,
   "metadata": {
    "collapsed": false
   },
   "outputs": [],
   "source": [
    "conversation_df.count()"
   ]
  },
  {
   "cell_type": "markdown",
   "metadata": {},
   "source": [
    "### How many users installed the chatbot?\n",
    "At SXSW we were able to demonstrate the chatbot on a laptop and display, or give users the ability to run the chatbot from their own phones. They could interact with the chatbot via SMS, or a mobile-optimized version of the web app. When running from the laptop we stored the user value as \"web\" plus a uuid. When running from a user's phone we stored the user value as \"phone\" plus a uuid. We are most interested in what types of conversations were had by users who installed the chatbot. Here we filter down to only those conversations:"
   ]
  },
  {
   "cell_type": "code",
   "execution_count": null,
   "metadata": {
    "collapsed": false,
    "pixiedust": {
     "displayParams": {}
    }
   },
   "outputs": [],
   "source": [
    "phone_conversation_df = conversation_df.filter('user LIKE \"phone%\"')\n",
    "phone_conversation_df.select('user').distinct().count()"
   ]
  },
  {
   "cell_type": "markdown",
   "metadata": {},
   "source": [
    "### How many conversations made by users from their phones?\n",
    "This question gets any conversation that traversed more than 1 dialog. If the user simply said \"hi\" and then never conversed with the chatbot after that then we don't want to count it as a conversation."
   ]
  },
  {
   "cell_type": "code",
   "execution_count": null,
   "metadata": {
    "collapsed": false
   },
   "outputs": [],
   "source": [
    "phone_conversation_df = phone_conversation_df.filter('size(dialogs) > 1')\n",
    "phone_conversation_df.count()"
   ]
  },
  {
   "cell_type": "markdown",
   "metadata": {},
   "source": [
    "### Flatten the Cloudant JSON document structure\n",
    "Each dialog contains a message field which contains the message sent by the user, and a name field which represents the action performed by the system based on the message sent by the user and the current dialog in the conversation as managed by Watson Conversation. For example, the name `search_topic` maps to the action of searching for Interactive sessions. The name `search_film` maps to the action of searching for film screenings. We want to do some analysis on specific actions and the messages associated with those actions, so in the next cell we convert each row (which has the dialog array) into multiple rows - one for each dialog. This will make it easier for us to filter and aggregate based on the message and name fields in the dialogs."
   ]
  },
  {
   "cell_type": "code",
   "execution_count": null,
   "metadata": {
    "collapsed": false
   },
   "outputs": [],
   "source": [
    "phone_dialog_df = phone_conversation_df.select(explode(phone_conversation_df.dialogs).alias(\"dialog\"))\n",
    "phone_dialog_df = phone_dialog_df.select(\"dialog.date\", \n",
    "                                         lower(phone_dialog_df.dialog.message).alias(\"message\"), \n",
    "                                         \"dialog.name\")\n",
    "phone_dialog_df.printSchema()"
   ]
  },
  {
   "cell_type": "markdown",
   "metadata": {},
   "source": [
    "### Display Dialogs in PixieDust\n",
    "Below we display each dialog in a PixieDust table. You can see the date, message (the message the user sent to the chatbot), and name (the name of the action performed)."
   ]
  },
  {
   "cell_type": "code",
   "execution_count": null,
   "metadata": {
    "collapsed": false,
    "pixiedust": {
     "displayParams": {
      "handlerId": "dataframe"
     }
    }
   },
   "outputs": [],
   "source": [
    "display(phone_dialog_df)"
   ]
  },
  {
   "cell_type": "markdown",
   "metadata": {},
   "source": [
    "### How many searches for SXSW Interactive sessions?\n",
    "As mentioned earlier, `search_topic` maps to the action of searching for SXSW Interactive sessions. Here we create a DataFrame with only those search actions:"
   ]
  },
  {
   "cell_type": "code",
   "execution_count": null,
   "metadata": {
    "collapsed": false
   },
   "outputs": [],
   "source": [
    "interactive_dialog_df = phone_dialog_df.filter(phone_dialog_df.name == 'search_topic')\n",
    "interactive_dialog_df.count()"
   ]
  },
  {
   "cell_type": "markdown",
   "metadata": {},
   "source": [
    "### What were the most popular searches for Interactive sessions?\n",
    "Next we group by message. Message is the message sent by the user. In this case it essentially represents the search term entered by the user for finding Interactive sessions. Here we aggregate and display the search terms across all users:"
   ]
  },
  {
   "cell_type": "code",
   "execution_count": null,
   "metadata": {
    "collapsed": false,
    "pixiedust": {
     "displayParams": {
      "handlerId": "dataframe"
     }
    }
   },
   "outputs": [],
   "source": [
    "interactive_dialog_by_message_df = interactive_dialog_df.groupBy('message').count().orderBy('count', ascending=False)\n",
    "display(interactive_dialog_by_message_df)"
   ]
  },
  {
   "cell_type": "markdown",
   "metadata": {},
   "source": [
    "### Display PixieDust Bar Chart\n",
    "Next, we'll take the top 20 most popular search terms and display them in a bar chart using PixieDust:"
   ]
  },
  {
   "cell_type": "code",
   "execution_count": null,
   "metadata": {
    "collapsed": false,
    "pixiedust": {
     "displayParams": {
      "aggregation": "SUM",
      "handlerId": "barChart",
      "keyFields": "message",
      "legend": "false",
      "orientation": "horizontal",
      "rendererId": "matplotlib",
      "rowCount": "20",
      "valueFields": "count"
     }
    }
   },
   "outputs": [],
   "source": [
    "display(interactive_dialog_by_message_df.limit(20))"
   ]
  },
  {
   "cell_type": "markdown",
   "metadata": {},
   "source": [
    "### Display PixieDust Pie Chart\n",
    "Finally, we'll take the top 10 most popular search terms and display them in a pie chart using PixieDust:"
   ]
  },
  {
   "cell_type": "code",
   "execution_count": null,
   "metadata": {
    "collapsed": false,
    "pixiedust": {
     "displayParams": {
      "aggregation": "SUM",
      "handlerId": "pieChart",
      "keyFields": "message",
      "rowCount": "100",
      "valueFields": "count"
     }
    }
   },
   "outputs": [],
   "source": [
    "display(interactive_dialog_by_message_df.limit(10))"
   ]
  },
  {
   "cell_type": "markdown",
   "metadata": {},
   "source": [
    "## Conclusions \n",
    "\n",
    "It's important to remember that our user population does not represent the SXSW attendee in general because the only people introduced to our app are those who chose to visit IBM's installation that week, and also chose to stop by our booth there. So what we _can_ say is that SXSW attendees interested in IBM technology innovation are have an overwhelming interest in artificial intelligence and virtual reality, and a lesser but significant interest in design, data, health and social media. "
   ]
  }
 ],
 "metadata": {
  "kernelspec": {
   "display_name": "Python with Pixiedust (Spark 2.0)",
   "language": "python",
   "name": "pythonwithpixiedustspark20"
  },
  "language_info": {
   "codemirror_mode": {
    "name": "ipython",
    "version": 2
   },
   "file_extension": ".py",
   "mimetype": "text/x-python",
   "name": "python",
   "nbconvert_exporter": "python",
   "pygments_lexer": "ipython2",
   "version": "2.7.12"
  }
 },
 "nbformat": 4,
 "nbformat_minor": 0
}
